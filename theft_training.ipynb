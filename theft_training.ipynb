{
 "cells": [
  {
   "cell_type": "code",
   "execution_count": 11,
   "id": "b526d958",
   "metadata": {},
   "outputs": [],
   "source": [
    "import os\n",
    "from tensorflow.keras.preprocessing.image import ImageDataGenerator\n",
    "from tensorflow.keras.applications import MobileNetV2"
   ]
  },
  {
   "cell_type": "markdown",
   "id": "53bb8803",
   "metadata": {},
   "source": [
    "## Directory Dataset"
   ]
  },
  {
   "cell_type": "code",
   "execution_count": 12,
   "id": "19ff9d4c",
   "metadata": {},
   "outputs": [
    {
     "name": "stdout",
     "output_type": "stream",
     "text": [
      "Categories: ['guest', 'theft']\n"
     ]
    }
   ],
   "source": [
    "path = os.path.join(\"dataset\", \"segmentation\")\n",
    "\n",
    "categories = os.listdir(path)\n",
    "\n",
    "if (os.path.exists(os.path.join(\"dataset\", \"augmentation\"))):\n",
    "    os.makedirs(\"dataset/augmentation/training\")\n",
    "    os.makedirs(\"dataset/augmentation/validation\")\n",
    "\n",
    "print(f\"Categories: {categories}\")"
   ]
  },
  {
   "cell_type": "markdown",
   "id": "30ad2a5b",
   "metadata": {},
   "source": [
    "## Data Augmentation"
   ]
  },
  {
   "cell_type": "code",
   "execution_count": 20,
   "id": "c3b287d4",
   "metadata": {},
   "outputs": [
    {
     "name": "stdout",
     "output_type": "stream",
     "text": [
      "Load data training ...\n",
      "Found 876 images belonging to 2 classes.\n",
      "Load data validation ...\n",
      "Found 218 images belonging to 2 classes.\n"
     ]
    }
   ],
   "source": [
    "\n",
    "data_generator = ImageDataGenerator(\n",
    "    rescale = 1./255,\n",
    "    width_shift_range = 1.0,\n",
    "    height_shift_range = 1.0,\n",
    "    brightness_range = [0.2, 0.8],\n",
    "    shear_range = 0.2,\n",
    "    zoom_range = [0.2, 0.6],\n",
    "    horizontal_flip = True,\n",
    "    validation_split = 0.2\n",
    ")\n",
    "\n",
    "print(\"Load data training ...\")\n",
    "\n",
    "data_train = data_generator.flow_from_directory(\n",
    "    path,\n",
    "    target_size= (320, 320),\n",
    "    class_mode= \"binary\",\n",
    "    classes = categories,\n",
    "    save_to_dir = \"dataset/augmentation/training\",\n",
    "    subset= \"training\"\n",
    ")\n",
    "print(\"\\n\\n\")\n",
    "\n",
    "print(\"Load data validation ...\")\n",
    "\n",
    "data_validation = data_generator.flow_from_directory(\n",
    "    path,\n",
    "    target_size= (320, 320),\n",
    "    class_mode= \"binary\",\n",
    "    classes = categories,\n",
    "    save_to_dir = \"dataset/augmentation/validation\",\n",
    "    subset= \"validation\"\n",
    ")"
   ]
  },
  {
   "cell_type": "code",
   "execution_count": null,
   "id": "51970e70",
   "metadata": {},
   "outputs": [],
   "source": [
    "mobile_net = MobileNetV2(\n",
    "    weights = \"imagenet\", \n",
    "    include_top = False,\n",
    "    input_tensor = Input(shape = (320, 320, 3), name = \"image\")\n",
    ")\n",
    "\n",
    "for layer in mobile_net.layers:\n",
    "    layer.trainable = False"
   ]
  },
  {
   "cell_type": "code",
   "execution_count": null,
   "id": "8a05bfc0",
   "metadata": {},
   "outputs": [],
   "source": []
  }
 ],
 "metadata": {
  "kernelspec": {
   "display_name": "Python 3 (ipykernel)",
   "language": "python",
   "name": "python3"
  },
  "language_info": {
   "codemirror_mode": {
    "name": "ipython",
    "version": 3
   },
   "file_extension": ".py",
   "mimetype": "text/x-python",
   "name": "python",
   "nbconvert_exporter": "python",
   "pygments_lexer": "ipython3",
   "version": "3.10.10"
  }
 },
 "nbformat": 4,
 "nbformat_minor": 5
}
